{
  "nbformat": 4,
  "nbformat_minor": 0,
  "metadata": {
    "colab": {
      "provenance": []
    },
    "kernelspec": {
      "name": "python3",
      "display_name": "Python 3"
    },
    "language_info": {
      "name": "python"
    },
    "accelerator": "GPU",
    "gpuClass": "standard"
  },
  "cells": [
    {
      "cell_type": "code",
      "execution_count": 2,
      "metadata": {
        "id": "4-8rLwTxH3Ha"
      },
      "outputs": [],
      "source": [
        "from keras.layers import Input, Dense\n",
        "from keras.models import Model"
      ]
    },
    {
      "cell_type": "code",
      "source": [
        "# this is the size of our encoded representations\n",
        "encoding_dim = 32  # 32 floats -> compression of factor 24.5, assuming the input is 784 floats"
      ],
      "metadata": {
        "id": "DXrcL_wIIDQL"
      },
      "execution_count": 3,
      "outputs": []
    },
    {
      "cell_type": "code",
      "source": [
        "# this is our input placeholder\n",
        "input_img = Input(shape=(784,))\n",
        "# \"encoded\" is the encoded representation of the input\n",
        "encoded = Dense(encoding_dim, activation='relu')(input_img) #Undercomplete Encoding\n",
        "# \"decoded\" is the lossy reconstruction of the input\n",
        "decoded = Dense(784, activation='sigmoid')(encoded)"
      ],
      "metadata": {
        "id": "OlMH22S4IM0J"
      },
      "execution_count": 4,
      "outputs": []
    },
    {
      "cell_type": "code",
      "source": [
        "# this model maps an input to its reconstruction\n",
        "autoencoder = Model(input_img, decoded)\n",
        "# this model maps an input to its encoded representation\n",
        "autoencoder.compile(optimizer='adam', loss='binary_crossentropy',metrics=['accuracy'])"
      ],
      "metadata": {
        "id": "4m75jgnqIXoi"
      },
      "execution_count": 5,
      "outputs": []
    },
    {
      "cell_type": "code",
      "source": [
        "from keras.datasets import mnist, fashion_mnist\n",
        "import numpy as np\n",
        "\n",
        "(x_train, y_train), (x_test, y_test) = fashion_mnist.load_data()\n",
        "x_train = x_train[:6000]\n",
        "x_test = x_test[:1000]\n",
        "\n",
        "#Converting into float & Scaling Data\n",
        "x_train = x_train.astype('float32') / 255.\n",
        "x_test = x_test.astype('float32') / 255.\n",
        "\n",
        "\n",
        "#Setting Up data from 28*28 to 784 for the width & height of image\n",
        "x_train = x_train.reshape((len(x_train), np.prod(x_train.shape[1:])))\n",
        "x_test = x_test.reshape((len(x_test), np.prod(x_test.shape[1:])))"
      ],
      "metadata": {
        "colab": {
          "base_uri": "https://localhost:8080/"
        },
        "id": "eiKLGBQ5IYtJ",
        "outputId": "27a867a0-4583-4fda-9faa-e24cce280882"
      },
      "execution_count": 6,
      "outputs": [
        {
          "output_type": "stream",
          "name": "stdout",
          "text": [
            "Downloading data from https://storage.googleapis.com/tensorflow/tf-keras-datasets/train-labels-idx1-ubyte.gz\n",
            "29515/29515 [==============================] - 0s 0us/step\n",
            "Downloading data from https://storage.googleapis.com/tensorflow/tf-keras-datasets/train-images-idx3-ubyte.gz\n",
            "26421880/26421880 [==============================] - 0s 0us/step\n",
            "Downloading data from https://storage.googleapis.com/tensorflow/tf-keras-datasets/t10k-labels-idx1-ubyte.gz\n",
            "5148/5148 [==============================] - 0s 0us/step\n",
            "Downloading data from https://storage.googleapis.com/tensorflow/tf-keras-datasets/t10k-images-idx3-ubyte.gz\n",
            "4422102/4422102 [==============================] - 0s 0us/step\n"
          ]
        }
      ]
    },
    {
      "cell_type": "code",
      "source": [
        "#Fitting/training the model\n",
        "autoencoder.fit(x_train, x_train,\n",
        "                epochs=5,\n",
        "                batch_size=128,\n",
        "                shuffle=True,\n",
        "                validation_data=(x_test, x_test))"
      ],
      "metadata": {
        "colab": {
          "base_uri": "https://localhost:8080/"
        },
        "id": "gTpvwcntIdyj",
        "outputId": "29623e3f-aec3-42bf-84f6-d97f6ed9c595"
      },
      "execution_count": 7,
      "outputs": [
        {
          "output_type": "stream",
          "name": "stdout",
          "text": [
            "Epoch 1/5\n",
            "47/47 [==============================] - 8s 23ms/step - loss: 0.5595 - accuracy: 0.0027 - val_loss: 0.4570 - val_accuracy: 0.0020\n",
            "Epoch 2/5\n",
            "47/47 [==============================] - 0s 10ms/step - loss: 0.4148 - accuracy: 0.0042 - val_loss: 0.3900 - val_accuracy: 0.0060\n",
            "Epoch 3/5\n",
            "47/47 [==============================] - 1s 16ms/step - loss: 0.3751 - accuracy: 0.0065 - val_loss: 0.3686 - val_accuracy: 0.0100\n",
            "Epoch 4/5\n",
            "47/47 [==============================] - 1s 13ms/step - loss: 0.3575 - accuracy: 0.0073 - val_loss: 0.3546 - val_accuracy: 0.0130\n",
            "Epoch 5/5\n",
            "47/47 [==============================] - 1s 12ms/step - loss: 0.3459 - accuracy: 0.0087 - val_loss: 0.3451 - val_accuracy: 0.0050\n"
          ]
        },
        {
          "output_type": "execute_result",
          "data": {
            "text/plain": [
              "<keras.src.callbacks.History at 0x7c9e400eedd0>"
            ]
          },
          "metadata": {},
          "execution_count": 7
        }
      ]
    },
    {
      "cell_type": "code",
      "source": [
        "#predicting on the test data\n",
        "prediction = autoencoder.predict(x_test)"
      ],
      "metadata": {
        "colab": {
          "base_uri": "https://localhost:8080/"
        },
        "id": "eNH5y6hbJArf",
        "outputId": "c024aea4-8222-41e2-de99-835d43a8677e"
      },
      "execution_count": 8,
      "outputs": [
        {
          "output_type": "stream",
          "name": "stdout",
          "text": [
            "32/32 [==============================] - 1s 6ms/step\n"
          ]
        }
      ]
    },
    {
      "cell_type": "code",
      "source": [
        "#Input Image\n",
        "from matplotlib import pyplot as plt\n",
        "plt.imshow(x_test[50].reshape(28,28))\n",
        "plt.show()"
      ],
      "metadata": {
        "colab": {
          "base_uri": "https://localhost:8080/",
          "height": 430
        },
        "id": "rRH3YigvJG_I",
        "outputId": "eb849c29-56c2-4a5f-e24a-6932f5a66d3b"
      },
      "execution_count": 9,
      "outputs": [
        {
          "output_type": "display_data",
          "data": {
            "text/plain": [
              "<Figure size 640x480 with 1 Axes>"
            ],
            "image/png": "[encoded data removed]"
          },
          "metadata": {}
        }
      ]
    },
    {
      "cell_type": "code",
      "source": [
        "#reconstructed Image\n",
        "from matplotlib import pyplot as plt\n",
        "plt.imshow(prediction[50].reshape(28,28))\n",
        "plt.show()"
      ],
      "metadata": {
        "colab": {
          "base_uri": "https://localhost:8080/",
          "height": 430
        },
        "id": "z6NqiZDeJPUk",
        "outputId": "65ae7955-2804-416e-e957-872bfa5fe435"
      },
      "execution_count": 10,
      "outputs": [
        {
          "output_type": "display_data",
          "data": {
            "text/plain": [
              "<Figure size 640x480 with 1 Axes>"
            ],
            "image/png": "[encoded data removed]"
          },
          "metadata": {}
        }
      ]
    },
    {
      "cell_type": "markdown",
      "source": [
        "#1. Add one more hidden layer to autoencoder"
      ],
      "metadata": {
        "id": "3Oiq9B9sJnR4"
      }
    },
    {
      "cell_type": "code",
      "source": [
        "# this is our input placeholder\n",
        "input_img = Input(shape=(784,))\n",
        "#Adding hidden layer to encoding\n",
        "hiddenLayer_en=Dense(512,activation='relu')(input_img)\n",
        "# \"encoded\" is the encoded representation of the input\n",
        "encoded = Dense(encoding_dim, activation='relu')(hiddenLayer_en) #Undercomplete Encoding\n",
        "#Adding hidden layer to decoding\n",
        "hiddenLayer_de=Dense(512,activation='relu')(encoded)\n",
        "# \"decoded\" is the lossy reconstruction of the input\n",
        "decoded = Dense(784, activation='sigmoid')(hiddenLayer_de)\n",
        "\n",
        "\n",
        "# this model maps an input to its reconstruction\n",
        "autoencoder = Model(input_img, decoded)\n",
        "# this model maps an input to its encoded representation\n",
        "autoencoder.compile(optimizer='adam', loss='binary_crossentropy',metrics=['accuracy'])\n",
        "\n",
        "\n",
        "from keras.datasets import mnist, fashion_mnist\n",
        "import numpy as np\n",
        "\n",
        "(x_train, y_train), (x_test, y_test) = fashion_mnist.load_data()\n",
        "\n",
        "#Converting into float & Scaling Data\n",
        "x_train = x_train.astype('float32') / 255.\n",
        "x_test = x_test.astype('float32') / 255.\n",
        "\n",
        "#Setting Up data from 28*28 to 784 for the width & height of image\n",
        "x_train = x_train.reshape((len(x_train), np.prod(x_train.shape[1:])))\n",
        "x_test = x_test.reshape((len(x_test), np.prod(x_test.shape[1:])))\n",
        "\n",
        "#Fitting/training the model\n",
        "autoencoder.fit(x_train, x_train,\n",
        "                epochs=5,\n",
        "                batch_size=128,\n",
        "                shuffle=True,\n",
        "                validation_data=(x_test, x_test))"
      ],
      "metadata": {
        "colab": {
          "base_uri": "https://localhost:8080/"
        },
        "id": "3Km4pe2zJltI",
        "outputId": "a0b6a044-3c7c-4f8d-f01c-217d0ac67080"
      },
      "execution_count": 11,
      "outputs": [
        {
          "output_type": "stream",
          "name": "stdout",
          "text": [
            "Epoch 1/5\n",
            "469/469 [==============================] - 4s 5ms/step - loss: 0.3238 - accuracy: 0.0125 - val_loss: 0.2950 - val_accuracy: 0.0169\n",
            "Epoch 2/5\n",
            "469/469 [==============================] - 2s 4ms/step - loss: 0.2868 - accuracy: 0.0201 - val_loss: 0.2855 - val_accuracy: 0.0212\n",
            "Epoch 3/5\n",
            "469/469 [==============================] - 2s 4ms/step - loss: 0.2811 - accuracy: 0.0235 - val_loss: 0.2811 - val_accuracy: 0.0283\n",
            "Epoch 4/5\n",
            "469/469 [==============================] - 2s 4ms/step - loss: 0.2775 - accuracy: 0.0271 - val_loss: 0.2789 - val_accuracy: 0.0282\n",
            "Epoch 5/5\n",
            "469/469 [==============================] - 3s 5ms/step - loss: 0.2757 - accuracy: 0.0299 - val_loss: 0.2771 - val_accuracy: 0.0309\n"
          ]
        },
        {
          "output_type": "execute_result",
          "data": {
            "text/plain": [
              "<keras.src.callbacks.History at 0x7c9dda255f90>"
            ]
          },
          "metadata": {},
          "execution_count": 11
        }
      ]
    },
    {
      "cell_type": "markdown",
      "source": [
        "#2. Do the prediction on the test data and then visualize the reconstructed version of that test data. Also, visualize the same test data before reconstruction using Matplotlib"
      ],
      "metadata": {
        "id": "RhpddH5WMhb_"
      }
    },
    {
      "cell_type": "code",
      "source": [
        "#predicting on the test data\n",
        "prediction = autoencoder.predict(x_test)"
      ],
      "metadata": {
        "colab": {
          "base_uri": "https://localhost:8080/"
        },
        "id": "0KSjsCfqLyq1",
        "outputId": "ca0d1b22-ab23-4569-9d93-bafeb8ece4c5"
      },
      "execution_count": 12,
      "outputs": [
        {
          "output_type": "stream",
          "name": "stdout",
          "text": [
            "313/313 [==============================] - 1s 2ms/step\n"
          ]
        }
      ]
    },
    {
      "cell_type": "code",
      "source": [
        "#Input Image\n",
        "from matplotlib import pyplot as plt\n",
        "plt.imshow(x_test[50].reshape(28,28))\n",
        "plt.show()"
      ],
      "metadata": {
        "colab": {
          "base_uri": "https://localhost:8080/",
          "height": 430
        },
        "id": "_y3Crf7WMsqW",
        "outputId": "281d9e59-ea9e-4a46-dd27-ca61dd16584c"
      },
      "execution_count": 13,
      "outputs": [
        {
          "output_type": "display_data",
          "data": {
            "text/plain": [
              "<Figure size 640x480 with 1 Axes>"
            ],
            "image/png": "[encoded data removed]"
          },
          "metadata": {}
        }
      ]
    },
    {
      "cell_type": "code",
      "source": [
        "#reconstructed Image\n",
        "from matplotlib import pyplot as plt\n",
        "plt.imshow(prediction[50].reshape(28,28))\n",
        "plt.show()"
      ],
      "metadata": {
        "colab": {
          "base_uri": "https://localhost:8080/",
          "height": 430
        },
        "id": "dtJIAsUAMt4m",
        "outputId": "4e0338b2-782e-4350-d84d-501e99008892"
      },
      "execution_count": 14,
      "outputs": [
        {
          "output_type": "display_data",
          "data": {
            "text/plain": [
              "<Figure size 640x480 with 1 Axes>"
            ],
            "image/png": "[encoded data removed]"
          },
          "metadata": {}
        }
      ]
    },
    {
      "cell_type": "code",
      "source": [],
      "metadata": {
        "id": "vGdO_nO0AGNO"
      },
      "execution_count": 14,
      "outputs": []
    }
  ]
}